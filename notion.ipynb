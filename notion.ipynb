{
 "cells": [
  {
   "cell_type": "code",
   "execution_count": 19,
   "id": "319e1131-3a56-40e9-b0af-c4abac0feda6",
   "metadata": {},
   "outputs": [],
   "source": [
    "from notion_client import Client\n",
    "import re\n",
    "from getpass import getpass"
   ]
  },
  {
   "cell_type": "code",
   "execution_count": 11,
   "id": "2fbb4640-2c11-47e4-b452-73811abc66ff",
   "metadata": {},
   "outputs": [
    {
     "name": "stdin",
     "output_type": "stream",
     "text": [
      "Notion auth token:  ········\n",
      "Parent page id:  ········\n"
     ]
    }
   ],
   "source": [
    "notion = Client(auth=getpass(\"Notion auth token: \"))\n",
    "PARENT_PAGE_ID = getpass(\"Parent page id: \")  "
   ]
  },
  {
   "cell_type": "code",
   "execution_count": 21,
   "id": "e4b0002b-c769-4472-ba3f-dc1ae8bf64e2",
   "metadata": {},
   "outputs": [],
   "source": [
    "FILE_PATH = \"running_plan.md\"\n",
    "\n",
    "with open(FILE_PATH, 'r', encoding='utf-8') as file:\n",
    "    markdown_content = file.read()"
   ]
  },
  {
   "cell_type": "code",
   "execution_count": 22,
   "id": "cb7385db-f8b1-4d6c-a760-8dbdae18e71b",
   "metadata": {},
   "outputs": [],
   "source": [
    "title_match = re.search(r'^# (.+)$', markdown_content, re.MULTILINE)\n",
    "title = title_match.group(1) if title_match else \"Running Plan\""
   ]
  },
  {
   "cell_type": "code",
   "execution_count": 23,
   "id": "edf8551d-d127-4941-a7a2-6107e971fc30",
   "metadata": {},
   "outputs": [],
   "source": [
    "def parse_markdown_text(text):\n",
    "\n",
    "    bold_pattern = r'\\*\\*([^*]+)\\*\\*'\n",
    "    parts = re.split(r'(\\*\\*[^*]+\\*\\*)', text)\n",
    "    rich_text = []\n",
    "\n",
    "    for part in parts:\n",
    "        if re.match(bold_pattern, part):\n",
    "            rich_text.append({\n",
    "                \"type\": \"text\",\n",
    "                \"text\": {\"content\": part[2:-2]},  # strip the \"**\"\n",
    "                \"annotations\": {\"bold\": True}\n",
    "            })\n",
    "        elif part:\n",
    "            rich_text.append({\n",
    "                \"type\": \"text\",\n",
    "                \"text\": {\"content\": part}\n",
    "            })\n",
    "\n",
    "    return rich_text"
   ]
  },
  {
   "cell_type": "code",
   "execution_count": 24,
   "id": "b10649bf-56b4-4f25-bcd0-759b5dac0d2b",
   "metadata": {},
   "outputs": [],
   "source": [
    "def markdown_to_notion_blocks(content):\n",
    "    \n",
    "    blocks = []\n",
    "    lines = content.split('\\n')\n",
    "    \n",
    "    i = 0\n",
    "    while i < len(lines):\n",
    "        line = lines[i].strip()\n",
    "        \n",
    "        if not line:  # Skip empty lines\n",
    "            i += 1\n",
    "            continue\n",
    "\n",
    "        # Markdown Heading (### Week X)\n",
    "        heading3_match = re.match(r'^### (.+)$', line)\n",
    "        if heading3_match:\n",
    "            blocks.append({\n",
    "                \"object\": \"block\",\n",
    "                \"type\": \"heading_3\",\n",
    "                \"heading_3\": {\n",
    "                    \"rich_text\": [{\"type\": \"text\", \"text\": {\"content\": heading3_match.group(1)}}]\n",
    "                }\n",
    "            })\n",
    "            i += 1\n",
    "            continue\n",
    "\n",
    "        # Training day with bold format: * **Day X**: Activity\n",
    "        day_match = re.match(r'^\\* \\*\\*(Day \\d+)\\*\\*: (.+)$', line)\n",
    "        if day_match:\n",
    "            full_text = f\"**{day_match.group(1)}**: {day_match.group(2)}\"\n",
    "            blocks.append({\n",
    "                \"object\": \"block\",\n",
    "                \"type\": \"to_do\",\n",
    "                \"to_do\": {\n",
    "                    \"rich_text\": parse_markdown_text(full_text),\n",
    "                    \"checked\": False\n",
    "                }\n",
    "            })\n",
    "            i += 1\n",
    "            continue\n",
    "\n",
    "        # Alt format without bold: * Day X: Activity\n",
    "        alt_day_match = re.match(r'^\\* (Day \\d+): (.+)$', line)\n",
    "        if alt_day_match:\n",
    "            full_text = f\"**{alt_day_match.group(1)}**: {alt_day_match.group(2)}\"\n",
    "            blocks.append({\n",
    "                \"object\": \"block\",\n",
    "                \"type\": \"to_do\",\n",
    "                \"to_do\": {\n",
    "                    \"rich_text\": parse_markdown_text(full_text),\n",
    "                    \"checked\": False\n",
    "                }\n",
    "            })\n",
    "            i += 1\n",
    "            continue\n",
    "\n",
    "        # Generic asterisk bullet, maybe with bold\n",
    "        list_match = re.match(r'^\\* (.+)$', line)\n",
    "        if list_match:\n",
    "            blocks.append({\n",
    "                \"object\": \"block\",\n",
    "                \"type\": \"to_do\",\n",
    "                \"to_do\": {\n",
    "                    \"rich_text\": parse_markdown_text(list_match.group(1)),\n",
    "                    \"checked\": False\n",
    "                }\n",
    "            })\n",
    "            i += 1\n",
    "            continue\n",
    "\n",
    "        # Dash bullet\n",
    "        dash_match = re.match(r'^- (.+)$', line)\n",
    "        if dash_match:\n",
    "            blocks.append({\n",
    "                \"object\": \"block\",\n",
    "                \"type\": \"to_do\",\n",
    "                \"to_do\": {\n",
    "                    \"rich_text\": parse_markdown_text(dash_match.group(1)),\n",
    "                    \"checked\": False\n",
    "                }\n",
    "            })\n",
    "            i += 1\n",
    "            continue\n",
    "\n",
    "        # Checkbox format: - [x] Activity\n",
    "        todo_match = re.match(r'^- \\[([ xX])\\] (.+)$', line)\n",
    "        if todo_match:\n",
    "            checked = todo_match.group(1).lower() == 'x'\n",
    "            blocks.append({\n",
    "                \"object\": \"block\",\n",
    "                \"type\": \"to_do\",\n",
    "                \"to_do\": {\n",
    "                    \"rich_text\": parse_markdown_text(todo_match.group(2)),\n",
    "                    \"checked\": checked\n",
    "                }\n",
    "            })\n",
    "            i += 1\n",
    "            continue\n",
    "\n",
    "        # Fallback: plain paragraph\n",
    "        blocks.append({\n",
    "            \"object\": \"block\",\n",
    "            \"type\": \"paragraph\",\n",
    "            \"paragraph\": {\n",
    "                \"rich_text\": parse_markdown_text(line)\n",
    "            }\n",
    "        })\n",
    "        i += 1\n",
    "    \n",
    "    return blocks\n"
   ]
  },
  {
   "cell_type": "code",
   "execution_count": 25,
   "id": "71249821-2746-48dd-92eb-f3dbf6d6bc2a",
   "metadata": {},
   "outputs": [],
   "source": [
    "blocks = markdown_to_notion_blocks(markdown_content)"
   ]
  },
  {
   "cell_type": "code",
   "execution_count": 26,
   "id": "44bd07ed-1399-4de2-bc82-c45b2e73cc92",
   "metadata": {},
   "outputs": [],
   "source": [
    "def create_notion_page():\n",
    "    try:\n",
    "        # Create the page\n",
    "        page = notion.pages.create(\n",
    "            parent={\"page_id\": PARENT_PAGE_ID},\n",
    "            properties={\n",
    "                \"title\": {\n",
    "                    \"title\": [{\"text\": {\"content\": title}}]\n",
    "                }\n",
    "            }\n",
    "        )\n",
    "        \n",
    "        notion.blocks.children.append(\n",
    "            block_id=page[\"id\"],\n",
    "            children=blocks\n",
    "        )\n",
    "        \n",
    "        print(f\"✅ Created Notion page: {title}\")\n",
    "        print(f\"🔗 URL: {page.get('url')}\")\n",
    "        \n",
    "        todo_count = sum(1 for block in blocks if block[\"type\"] == \"to_do\")\n",
    "        checked_count = sum(1 for block in blocks if block[\"type\"] == \"to_do\" and block[\"to_do\"][\"checked\"])\n",
    "        \n",
    "        print(f\"📋 To-do items: {todo_count} ({checked_count} completed)\")\n",
    "        \n",
    "        return page\n",
    "    \n",
    "    except Exception as e:\n",
    "        print(f\"❌ Error: {str(e)}\")\n",
    "        return None"
   ]
  },
  {
   "cell_type": "code",
   "execution_count": 27,
   "id": "99a4e1fa-49aa-46ae-aef7-98397eac9900",
   "metadata": {},
   "outputs": [
    {
     "name": "stdout",
     "output_type": "stream",
     "text": [
      "✅ Created Notion page: Running Plan\n",
      "🔗 URL: https://www.notion.so/Running-Plan-1eed001cc4148127b84cc5c01117a590\n",
      "📋 To-do items: 32 (0 completed)\n"
     ]
    }
   ],
   "source": [
    "result = create_notion_page()"
   ]
  }
 ],
 "metadata": {
  "kernelspec": {
   "display_name": "Python 3 (ipykernel)",
   "language": "python",
   "name": "python3"
  },
  "language_info": {
   "codemirror_mode": {
    "name": "ipython",
    "version": 3
   },
   "file_extension": ".py",
   "mimetype": "text/x-python",
   "name": "python",
   "nbconvert_exporter": "python",
   "pygments_lexer": "ipython3",
   "version": "3.12.1"
  }
 },
 "nbformat": 4,
 "nbformat_minor": 5
}
