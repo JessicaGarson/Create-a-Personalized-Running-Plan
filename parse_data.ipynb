{
 "cells": [
  {
   "cell_type": "code",
   "execution_count": 3,
   "id": "787db452-a86b-4a58-9149-3c3e0fd3d26f",
   "metadata": {},
   "outputs": [],
   "source": [
    "import xml.etree.ElementTree as ET\n",
    "from datetime import datetime\n",
    "from dateutil.relativedelta import relativedelta\n",
    "from elasticsearch import Elasticsearch, helpers\n",
    "from getpass import getpass"
   ]
  },
  {
   "cell_type": "code",
   "execution_count": 4,
   "id": "48a5caa8-6184-4060-8729-ef382553e5e0",
   "metadata": {},
   "outputs": [
    {
     "name": "stdout",
     "output_type": "stream",
     "text": [
      "Host:  ········\n",
      "API Key:  ········\n"
     ]
    }
   ],
   "source": [
    "es = Elasticsearch(\n",
    "    getpass(\"Host: \"),\n",
    "    api_key=getpass(\"API Key: \"),\n",
    ")"
   ]
  },
  {
   "cell_type": "code",
   "execution_count": null,
   "id": "64a63e4f-f218-4b67-9dfb-046ac3bc098d",
   "metadata": {},
   "outputs": [],
   "source": [
    "tree = ET.parse('sample_data.xml')\n",
    "root = tree.getroot()\n",
    "three_months_ago = datetime.now() - relativedelta(months=3)"
   ]
  },
  {
   "cell_type": "code",
   "execution_count": 6,
   "id": "c7b7a7bd-d563-4fa7-9be5-5376505095d1",
   "metadata": {},
   "outputs": [],
   "source": [
    "docs = []"
   ]
  },
  {
   "cell_type": "code",
   "execution_count": 7,
   "id": "4b25be24-9763-40b8-b9ae-1df85ecb6a08",
   "metadata": {},
   "outputs": [],
   "source": [
    "for workout in root.findall('Workout'):\n",
    "    start_date_str = workout.attrib['startDate']\n",
    "    start_date = datetime.strptime(start_date_str[:19], \"%Y-%m-%d %H:%M:%S\")\n",
    "\n",
    "    if start_date >= three_months_ago:\n",
    "        distance_miles = 0.0\n",
    "        calories = 0.0\n",
    "\n",
    "        for stat in workout.findall('WorkoutStatistics'):\n",
    "            if stat.attrib['type'] == \"HKQuantityTypeIdentifierDistanceWalkingRunning\":\n",
    "                distance_miles = float(stat.attrib.get('sum', 0))\n",
    "            elif stat.attrib['type'] == \"HKQuantityTypeIdentifierActiveEnergyBurned\":\n",
    "                calories = float(stat.attrib.get('sum', 0))\n",
    "\n",
    "        doc = {\n",
    "            'workout_type': workout.attrib.get('workoutActivityType', 'Unknown'),\n",
    "            'start_time': workout.attrib['startDate'],\n",
    "            'end_time': workout.attrib['endDate'],\n",
    "            'distance_miles': distance_miles,\n",
    "            'distance_km': distance_miles * 1.60934,\n",
    "            'calories_burned': calories,\n",
    "            'device': workout.attrib.get('sourceName', 'Unknown')\n",
    "        }\n",
    "        \n",
    "        docs.append(doc)"
   ]
  },
  {
   "cell_type": "code",
   "execution_count": 8,
   "id": "c1043134-6fc2-4ef2-a7cc-38284730ccab",
   "metadata": {},
   "outputs": [
    {
     "name": "stdout",
     "output_type": "stream",
     "text": [
      "Successfully indexed 25 workouts into Elasticsearch!\n"
     ]
    }
   ],
   "source": [
    "if docs:\n",
    "    actions = [\n",
    "        {\n",
    "            \"_index\": \"apple-health-workouts\",\n",
    "            \"_source\": doc\n",
    "        }\n",
    "        for doc in docs\n",
    "    ]\n",
    "    helpers.bulk(es, actions)\n",
    "    print(f\"Successfully indexed {len(docs)} workouts into Elasticsearch!\")\n",
    "else:\n",
    "    print(\"No workouts found in the last 3 months.\")"
   ]
  },
  {
   "cell_type": "code",
   "execution_count": null,
   "id": "861fac5d-3511-49e0-9f39-d5f79dc2b356",
   "metadata": {},
   "outputs": [],
   "source": []
  }
 ],
 "metadata": {
  "kernelspec": {
   "display_name": "Python 3 (ipykernel)",
   "language": "python",
   "name": "python3"
  },
  "language_info": {
   "codemirror_mode": {
    "name": "ipython",
    "version": 3
   },
   "file_extension": ".py",
   "mimetype": "text/x-python",
   "name": "python",
   "nbconvert_exporter": "python",
   "pygments_lexer": "ipython3",
   "version": "3.12.1"
  }
 },
 "nbformat": 4,
 "nbformat_minor": 5
}
